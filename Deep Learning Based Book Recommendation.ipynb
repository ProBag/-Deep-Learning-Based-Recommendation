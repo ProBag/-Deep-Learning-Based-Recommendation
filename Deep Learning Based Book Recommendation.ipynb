{
  "nbformat": 4,
  "nbformat_minor": 0,
  "metadata": {
    "colab": {
      "provenance": [],
      "machine_shape": "hm",
      "gpuType": "A100"
    },
    "kernelspec": {
      "name": "python3",
      "display_name": "Python 3"
    },
    "language_info": {
      "name": "python"
    },
    "accelerator": "GPU"
  },
  "cells": [
    {
      "cell_type": "code",
      "execution_count": 224,
      "metadata": {
        "colab": {
          "base_uri": "https://localhost:8080/"
        },
        "id": "z4nsNOhSTf0i",
        "outputId": "669042c9-4470-4f72-9d8d-2e7ed304b949"
      },
      "outputs": [
        {
          "output_type": "stream",
          "name": "stdout",
          "text": [
            "Requirement already satisfied: tensorflow-addons==0.16.1 in /usr/local/lib/python3.10/dist-packages (0.16.1)\n",
            "Requirement already satisfied: typeguard>=2.7 in /usr/local/lib/python3.10/dist-packages (from tensorflow-addons==0.16.1) (4.1.5)\n",
            "Requirement already satisfied: typing-extensions>=4.7.0 in /usr/local/lib/python3.10/dist-packages (from typeguard>=2.7->tensorflow-addons==0.16.1) (4.8.0)\n"
          ]
        }
      ],
      "source": [
        "!pip install tensorflow-addons==0.16.1\n",
        "import tensorflow_addons as tfa\n",
        "import warnings\n",
        "warnings.filterwarnings('ignore')"
      ]
    },
    {
      "cell_type": "code",
      "source": [
        "import pandas as pd\n",
        "import numpy as np\n",
        "\n",
        "from sklearn.model_selection import train_test_split\n",
        "from sklearn import metrics, preprocessing\n",
        "from sklearn.preprocessing import LabelEncoder, StandardScaler\n",
        "\n",
        "import torch\n",
        "import torch.nn as nn\n",
        "import torch.optim as optim\n",
        "from torch.utils.data import Dataset, DataLoader\n",
        "from torch.nn.utils import clip_grad_norm_\n",
        "from sklearn.preprocessing import StandardScaler"
      ],
      "metadata": {
        "id": "RFqoWI3_TokT"
      },
      "execution_count": 330,
      "outputs": []
    },
    {
      "cell_type": "code",
      "source": [
        "ratings = pd.read_csv('BX-Book-Ratings.csv', sep=\";\", on_bad_lines='warn', encoding=\"latin-1\")"
      ],
      "metadata": {
        "id": "ejy_QYNjTx2Y"
      },
      "execution_count": 226,
      "outputs": []
    },
    {
      "cell_type": "code",
      "source": [
        "column_names = ratings.columns\n",
        "print(column_names)"
      ],
      "metadata": {
        "colab": {
          "base_uri": "https://localhost:8080/"
        },
        "id": "_hxEfkDLUGHa",
        "outputId": "c1f7ebfb-a055-454f-d7b6-b8c8a3b926bf"
      },
      "execution_count": 227,
      "outputs": [
        {
          "output_type": "stream",
          "name": "stdout",
          "text": [
            "Index(['User-ID', 'ISBN', 'Book-Rating'], dtype='object')\n"
          ]
        }
      ]
    },
    {
      "cell_type": "code",
      "source": [
        "books = pd.read_csv('BX-Books.csv', sep=';', encoding='latin-1', error_bad_lines=False)\n",
        "print(books.columns)\n",
        "if 'Image-URL-S' in books.columns and 'Image-URL-M' in books.columns and 'Image-URL-L' in books.columns:\n",
        "    books = books.drop(columns=['Image-URL-S', 'Image-URL-M', 'Image-URL-L'])\n",
        "print(books.head(5))"
      ],
      "metadata": {
        "colab": {
          "base_uri": "https://localhost:8080/"
        },
        "id": "uupPMYdrVi7K",
        "outputId": "39eeee77-047f-49dd-f3af-01a7a0e6341b"
      },
      "execution_count": 228,
      "outputs": [
        {
          "output_type": "stream",
          "name": "stderr",
          "text": [
            "Skipping line 6452: expected 8 fields, saw 9\n",
            "Skipping line 43667: expected 8 fields, saw 10\n",
            "Skipping line 51751: expected 8 fields, saw 9\n",
            "\n",
            "Skipping line 92038: expected 8 fields, saw 9\n",
            "Skipping line 104319: expected 8 fields, saw 9\n",
            "Skipping line 121768: expected 8 fields, saw 9\n",
            "\n",
            "Skipping line 144058: expected 8 fields, saw 9\n",
            "Skipping line 150789: expected 8 fields, saw 9\n",
            "Skipping line 157128: expected 8 fields, saw 9\n",
            "Skipping line 180189: expected 8 fields, saw 9\n",
            "Skipping line 185738: expected 8 fields, saw 9\n",
            "\n",
            "Skipping line 209388: expected 8 fields, saw 9\n",
            "Skipping line 220626: expected 8 fields, saw 9\n",
            "Skipping line 227933: expected 8 fields, saw 11\n",
            "Skipping line 228957: expected 8 fields, saw 10\n",
            "Skipping line 245933: expected 8 fields, saw 9\n",
            "Skipping line 251296: expected 8 fields, saw 9\n",
            "Skipping line 259941: expected 8 fields, saw 9\n",
            "Skipping line 261529: expected 8 fields, saw 9\n",
            "\n"
          ]
        },
        {
          "output_type": "stream",
          "name": "stdout",
          "text": [
            "Index(['ISBN', 'Book-Title', 'Book-Author', 'Year-Of-Publication', 'Publisher',\n",
            "       'Image-URL-S', 'Image-URL-M', 'Image-URL-L'],\n",
            "      dtype='object')\n",
            "         ISBN                                         Book-Title  \\\n",
            "0  0195153448                                Classical Mythology   \n",
            "1  0002005018                                       Clara Callan   \n",
            "2  0060973129                               Decision in Normandy   \n",
            "3  0374157065  Flu: The Story of the Great Influenza Pandemic...   \n",
            "4  0393045218                             The Mummies of Urumchi   \n",
            "\n",
            "            Book-Author Year-Of-Publication                   Publisher  \n",
            "0    Mark P. O. Morford                2002     Oxford University Press  \n",
            "1  Richard Bruce Wright                2001       HarperFlamingo Canada  \n",
            "2          Carlo D'Este                1991             HarperPerennial  \n",
            "3      Gina Bari Kolata                1999        Farrar Straus Giroux  \n",
            "4       E. J. W. Barber                1999  W. W. Norton &amp; Company  \n"
          ]
        }
      ]
    },
    {
      "cell_type": "code",
      "source": [
        "column_names = books.columns\n",
        "print(column_names)"
      ],
      "metadata": {
        "colab": {
          "base_uri": "https://localhost:8080/"
        },
        "id": "s3vEJgvtVqOW",
        "outputId": "aaefe45d-beda-46ce-c7d5-fe661ee34e3b"
      },
      "execution_count": 229,
      "outputs": [
        {
          "output_type": "stream",
          "name": "stdout",
          "text": [
            "Index(['ISBN', 'Book-Title', 'Book-Author', 'Year-Of-Publication',\n",
            "       'Publisher'],\n",
            "      dtype='object')\n"
          ]
        }
      ]
    },
    {
      "cell_type": "code",
      "source": [
        "users = pd.read_csv('BX-Users.csv', sep=\";\", on_bad_lines='warn', encoding=\"latin-1\")"
      ],
      "metadata": {
        "id": "yo_4NnkrVuQL"
      },
      "execution_count": 230,
      "outputs": []
    },
    {
      "cell_type": "code",
      "source": [
        "column_names = users.columns\n",
        "print(column_names)"
      ],
      "metadata": {
        "colab": {
          "base_uri": "https://localhost:8080/"
        },
        "id": "c0F9QSHUWLgH",
        "outputId": "5955f504-7ad8-47f5-be9d-030b34d6d7e2"
      },
      "execution_count": 231,
      "outputs": [
        {
          "output_type": "stream",
          "name": "stdout",
          "text": [
            "Index(['User-ID', 'Location', 'Age'], dtype='object')\n"
          ]
        }
      ]
    },
    {
      "cell_type": "code",
      "source": [
        "combined = users.merge(ratings, on='User-ID').merge(books, on='ISBN')\n",
        "\n",
        "lbl_isbn = preprocessing.LabelEncoder()\n",
        "lbl_title = preprocessing.LabelEncoder()\n",
        "lbl_author = preprocessing.LabelEncoder()\n",
        "lbl_publisher = preprocessing.LabelEncoder()\n",
        "lbl_location = preprocessing.LabelEncoder()\n",
        "\n",
        "combined['ISBN'] = lbl_title.fit_transform(combined['ISBN'].values)\n",
        "combined['Book-Title'] = lbl_title.fit_transform(combined['Book-Title'].values)\n",
        "combined['Book-Author'] = lbl_author.fit_transform(combined['Book-Title'].values)\n",
        "combined['Publisher'] = lbl_publisher.fit_transform(combined['Book-Title'].values)\n",
        "combined['Year-Of-Publication'] = combined['Year-Of-Publication'].apply(lambda x: str(x).split('.')[0])\n",
        "combined['Year-Of-Publication'] = combined['Year-Of-Publication'].replace('DK Publishing Inc', 0)\n",
        "combined['Year-Of-Publication'] = combined['Year-Of-Publication'].replace('Gallimard', 0)\n",
        "combined['Year-Of-Publication'] = combined['Year-Of-Publication'].astype(int)\n",
        "combined['Age'] = combined['Age'].fillna(0).astype(int)\n",
        "combined['Location'] = lbl_location.fit_transform(combined['Location'].values)\n",
        "print(combined.head(5))"
      ],
      "metadata": {
        "colab": {
          "base_uri": "https://localhost:8080/"
        },
        "id": "vzqV-K1LNBL9",
        "outputId": "c99889ed-87cc-4857-c21a-b96146943fa7"
      },
      "execution_count": 315,
      "outputs": [
        {
          "output_type": "stream",
          "name": "stdout",
          "text": [
            "   User-ID  Location  Age   ISBN  Book-Rating  Book-Title  Book-Author  \\\n",
            "0        2     19186   18  24927            0       36197        36197   \n",
            "1        8     19911    0     73            5       36036        36036   \n",
            "2    11400     14894   49     73            0       36036        36036   \n",
            "3    11676     13469    0     73            8       36036        36036   \n",
            "4    41385     19330    0     73            0       36036        36036   \n",
            "\n",
            "   Year-Of-Publication  Publisher  \\\n",
            "0                 2002      36197   \n",
            "1                 2001      36036   \n",
            "2                 2001      36036   \n",
            "3                 2001      36036   \n",
            "4                 2001      36036   \n",
            "\n",
            "                                         Image-URL-S  \\\n",
            "0  http://images.amazon.com/images/P/0195153448.0...   \n",
            "1  http://images.amazon.com/images/P/0002005018.0...   \n",
            "2  http://images.amazon.com/images/P/0002005018.0...   \n",
            "3  http://images.amazon.com/images/P/0002005018.0...   \n",
            "4  http://images.amazon.com/images/P/0002005018.0...   \n",
            "\n",
            "                                         Image-URL-M  \\\n",
            "0  http://images.amazon.com/images/P/0195153448.0...   \n",
            "1  http://images.amazon.com/images/P/0002005018.0...   \n",
            "2  http://images.amazon.com/images/P/0002005018.0...   \n",
            "3  http://images.amazon.com/images/P/0002005018.0...   \n",
            "4  http://images.amazon.com/images/P/0002005018.0...   \n",
            "\n",
            "                                         Image-URL-L  \n",
            "0  http://images.amazon.com/images/P/0195153448.0...  \n",
            "1  http://images.amazon.com/images/P/0002005018.0...  \n",
            "2  http://images.amazon.com/images/P/0002005018.0...  \n",
            "3  http://images.amazon.com/images/P/0002005018.0...  \n",
            "4  http://images.amazon.com/images/P/0002005018.0...  \n"
          ]
        }
      ]
    },
    {
      "cell_type": "code",
      "source": [
        "'''to_drop = ['Image-URL-S', 'Image-URL-M', 'Image-URL-L']\n",
        "\n",
        "data = data.drop(to_drop, axis=1, inplace=False)'''"
      ],
      "metadata": {
        "colab": {
          "base_uri": "https://localhost:8080/",
          "height": 35
        },
        "id": "dDeG47BuNfFX",
        "outputId": "7331fc20-5291-49c9-fa96-3353a578a1c4"
      },
      "execution_count": 316,
      "outputs": [
        {
          "output_type": "execute_result",
          "data": {
            "text/plain": [
              "\"to_drop = ['Image-URL-S', 'Image-URL-M', 'Image-URL-L']\\n\\ndata = data.drop(to_drop, axis=1, inplace=False)\""
            ],
            "application/vnd.google.colaboratory.intrinsic+json": {
              "type": "string"
            }
          },
          "metadata": {},
          "execution_count": 316
        }
      ]
    },
    {
      "cell_type": "code",
      "source": [
        "class BookDataset(Dataset):\n",
        "    def __init__(self, data) -> None:\n",
        "        self.isbns = data['ISBN']\n",
        "        self.book_titles = data['Book-Title']\n",
        "        self.book_authors = data['Book-Author']\n",
        "        self.year_of_publications = data['Year-Of-Publication']\n",
        "        self.publishers = data['Publisher']\n",
        "        self.user_ids = data['User-ID']\n",
        "        self.locations = data['Location']\n",
        "        self.ages = data['Age']\n",
        "        self.book_ratings = data['Book-Rating']\n",
        "\n",
        "    def __len__(self):\n",
        "        return len(self.isbns)\n",
        "\n",
        "    def __getitem__(self, item):\n",
        "        isbn = self.isbns[item]\n",
        "        book_title = self.book_titles[item]\n",
        "        book_author = self.book_authors[item]\n",
        "        year_of_publication = self.year_of_publications[item]\n",
        "        publisher = self.publishers[item]\n",
        "        user_id = self.user_ids[item]\n",
        "        location = self.locations[item]\n",
        "        age = self.ages[item]\n",
        "        book_rating = self.book_ratings[item]\n",
        "\n",
        "        return {\n",
        "            'isbn': torch.tensor(isbn, dtype=torch.long),\n",
        "            'book_title': torch.tensor(book_title, dtype=torch.long),\n",
        "            'book_author': torch.tensor(book_author, dtype=torch.long),\n",
        "            'publisher': torch.tensor(publisher, dtype=torch.long),\n",
        "            'user_id': torch.tensor(user_id, dtype=torch.long),\n",
        "            'location': torch.tensor(location, dtype=torch.long),\n",
        "            'year_of_publication': torch.tensor(year_of_publication, dtype=torch.float),\n",
        "            'age': torch.tensor(age, dtype=torch.float),\n",
        "            'book_rating': torch.tensor(book_rating, dtype=torch.float),\n",
        "        }"
      ],
      "metadata": {
        "id": "hma13udHBmQr"
      },
      "execution_count": 317,
      "outputs": []
    },
    {
      "cell_type": "code",
      "source": [
        "dataset = BookDataset(combined)"
      ],
      "metadata": {
        "id": "oddc0cOeB31N"
      },
      "execution_count": 319,
      "outputs": []
    },
    {
      "cell_type": "code",
      "source": [
        "data"
      ],
      "metadata": {
        "colab": {
          "base_uri": "https://localhost:8080/"
        },
        "id": "t7QT20Y4CHKg",
        "outputId": "1a03ef8b-6e8e-445b-d1a2-36823a1e6915"
      },
      "execution_count": 320,
      "outputs": [
        {
          "output_type": "execute_result",
          "data": {
            "text/plain": [
              "<function __main__.data(ratings, books, users)>"
            ]
          },
          "metadata": {},
          "execution_count": 320
        }
      ]
    },
    {
      "cell_type": "code",
      "source": [
        "combined"
      ],
      "metadata": {
        "colab": {
          "base_uri": "https://localhost:8080/",
          "height": 461
        },
        "id": "I75XkldKNzPA",
        "outputId": "0f86688b-0de7-4d7b-f76e-2da6daa37dfc"
      },
      "execution_count": 321,
      "outputs": [
        {
          "output_type": "execute_result",
          "data": {
            "text/plain": [
              "         User-ID  Location  Age    ISBN  Book-Rating  Book-Title  Book-Author  \\\n",
              "0              2     19186   18   24927            0       36197        36197   \n",
              "1              8     19911    0      73            5       36036        36036   \n",
              "2          11400     14894   49      73            0       36036        36036   \n",
              "3          11676     13469    0      73            8       36036        36036   \n",
              "4          41385     19330    0      73            0       36036        36036   \n",
              "...          ...       ...  ...     ...          ...         ...          ...   \n",
              "1031131   278851      4986   33  156891            0       16706        16706   \n",
              "1031132   278851      4986   33  165573            5       11163        11163   \n",
              "1031133   278851      4986   33  201536            7      234649       234649   \n",
              "1031134   278851      4986   33  207840            7      175773       175773   \n",
              "1031135   278851      4986   33  228176           10       43302        43302   \n",
              "\n",
              "         Year-Of-Publication  Publisher  \\\n",
              "0                       2002      36197   \n",
              "1                       2001      36036   \n",
              "2                       2001      36036   \n",
              "3                       2001      36036   \n",
              "4                       2001      36036   \n",
              "...                      ...        ...   \n",
              "1031131                 2000      16706   \n",
              "1031132                 2001      11163   \n",
              "1031133                 1985     234649   \n",
              "1031134                 1997     175773   \n",
              "1031135                 1999      43302   \n",
              "\n",
              "                                               Image-URL-S  \\\n",
              "0        http://images.amazon.com/images/P/0195153448.0...   \n",
              "1        http://images.amazon.com/images/P/0002005018.0...   \n",
              "2        http://images.amazon.com/images/P/0002005018.0...   \n",
              "3        http://images.amazon.com/images/P/0002005018.0...   \n",
              "4        http://images.amazon.com/images/P/0002005018.0...   \n",
              "...                                                    ...   \n",
              "1031131  http://images.amazon.com/images/P/0743203763.0...   \n",
              "1031132  http://images.amazon.com/images/P/0767907566.0...   \n",
              "1031133  http://images.amazon.com/images/P/0884159221.0...   \n",
              "1031134  http://images.amazon.com/images/P/0912333022.0...   \n",
              "1031135  http://images.amazon.com/images/P/1569661057.0...   \n",
              "\n",
              "                                               Image-URL-M  \\\n",
              "0        http://images.amazon.com/images/P/0195153448.0...   \n",
              "1        http://images.amazon.com/images/P/0002005018.0...   \n",
              "2        http://images.amazon.com/images/P/0002005018.0...   \n",
              "3        http://images.amazon.com/images/P/0002005018.0...   \n",
              "4        http://images.amazon.com/images/P/0002005018.0...   \n",
              "...                                                    ...   \n",
              "1031131  http://images.amazon.com/images/P/0743203763.0...   \n",
              "1031132  http://images.amazon.com/images/P/0767907566.0...   \n",
              "1031133  http://images.amazon.com/images/P/0884159221.0...   \n",
              "1031134  http://images.amazon.com/images/P/0912333022.0...   \n",
              "1031135  http://images.amazon.com/images/P/1569661057.0...   \n",
              "\n",
              "                                               Image-URL-L  \n",
              "0        http://images.amazon.com/images/P/0195153448.0...  \n",
              "1        http://images.amazon.com/images/P/0002005018.0...  \n",
              "2        http://images.amazon.com/images/P/0002005018.0...  \n",
              "3        http://images.amazon.com/images/P/0002005018.0...  \n",
              "4        http://images.amazon.com/images/P/0002005018.0...  \n",
              "...                                                    ...  \n",
              "1031131  http://images.amazon.com/images/P/0743203763.0...  \n",
              "1031132  http://images.amazon.com/images/P/0767907566.0...  \n",
              "1031133  http://images.amazon.com/images/P/0884159221.0...  \n",
              "1031134  http://images.amazon.com/images/P/0912333022.0...  \n",
              "1031135  http://images.amazon.com/images/P/1569661057.0...  \n",
              "\n",
              "[1031136 rows x 12 columns]"
            ],
            "text/html": [
              "\n",
              "  <div id=\"df-431aa4d6-2368-460d-bc76-a55b37f7056e\" class=\"colab-df-container\">\n",
              "    <div>\n",
              "<style scoped>\n",
              "    .dataframe tbody tr th:only-of-type {\n",
              "        vertical-align: middle;\n",
              "    }\n",
              "\n",
              "    .dataframe tbody tr th {\n",
              "        vertical-align: top;\n",
              "    }\n",
              "\n",
              "    .dataframe thead th {\n",
              "        text-align: right;\n",
              "    }\n",
              "</style>\n",
              "<table border=\"1\" class=\"dataframe\">\n",
              "  <thead>\n",
              "    <tr style=\"text-align: right;\">\n",
              "      <th></th>\n",
              "      <th>User-ID</th>\n",
              "      <th>Location</th>\n",
              "      <th>Age</th>\n",
              "      <th>ISBN</th>\n",
              "      <th>Book-Rating</th>\n",
              "      <th>Book-Title</th>\n",
              "      <th>Book-Author</th>\n",
              "      <th>Year-Of-Publication</th>\n",
              "      <th>Publisher</th>\n",
              "      <th>Image-URL-S</th>\n",
              "      <th>Image-URL-M</th>\n",
              "      <th>Image-URL-L</th>\n",
              "    </tr>\n",
              "  </thead>\n",
              "  <tbody>\n",
              "    <tr>\n",
              "      <th>0</th>\n",
              "      <td>2</td>\n",
              "      <td>19186</td>\n",
              "      <td>18</td>\n",
              "      <td>24927</td>\n",
              "      <td>0</td>\n",
              "      <td>36197</td>\n",
              "      <td>36197</td>\n",
              "      <td>2002</td>\n",
              "      <td>36197</td>\n",
              "      <td>http://images.amazon.com/images/P/0195153448.0...</td>\n",
              "      <td>http://images.amazon.com/images/P/0195153448.0...</td>\n",
              "      <td>http://images.amazon.com/images/P/0195153448.0...</td>\n",
              "    </tr>\n",
              "    <tr>\n",
              "      <th>1</th>\n",
              "      <td>8</td>\n",
              "      <td>19911</td>\n",
              "      <td>0</td>\n",
              "      <td>73</td>\n",
              "      <td>5</td>\n",
              "      <td>36036</td>\n",
              "      <td>36036</td>\n",
              "      <td>2001</td>\n",
              "      <td>36036</td>\n",
              "      <td>http://images.amazon.com/images/P/0002005018.0...</td>\n",
              "      <td>http://images.amazon.com/images/P/0002005018.0...</td>\n",
              "      <td>http://images.amazon.com/images/P/0002005018.0...</td>\n",
              "    </tr>\n",
              "    <tr>\n",
              "      <th>2</th>\n",
              "      <td>11400</td>\n",
              "      <td>14894</td>\n",
              "      <td>49</td>\n",
              "      <td>73</td>\n",
              "      <td>0</td>\n",
              "      <td>36036</td>\n",
              "      <td>36036</td>\n",
              "      <td>2001</td>\n",
              "      <td>36036</td>\n",
              "      <td>http://images.amazon.com/images/P/0002005018.0...</td>\n",
              "      <td>http://images.amazon.com/images/P/0002005018.0...</td>\n",
              "      <td>http://images.amazon.com/images/P/0002005018.0...</td>\n",
              "    </tr>\n",
              "    <tr>\n",
              "      <th>3</th>\n",
              "      <td>11676</td>\n",
              "      <td>13469</td>\n",
              "      <td>0</td>\n",
              "      <td>73</td>\n",
              "      <td>8</td>\n",
              "      <td>36036</td>\n",
              "      <td>36036</td>\n",
              "      <td>2001</td>\n",
              "      <td>36036</td>\n",
              "      <td>http://images.amazon.com/images/P/0002005018.0...</td>\n",
              "      <td>http://images.amazon.com/images/P/0002005018.0...</td>\n",
              "      <td>http://images.amazon.com/images/P/0002005018.0...</td>\n",
              "    </tr>\n",
              "    <tr>\n",
              "      <th>4</th>\n",
              "      <td>41385</td>\n",
              "      <td>19330</td>\n",
              "      <td>0</td>\n",
              "      <td>73</td>\n",
              "      <td>0</td>\n",
              "      <td>36036</td>\n",
              "      <td>36036</td>\n",
              "      <td>2001</td>\n",
              "      <td>36036</td>\n",
              "      <td>http://images.amazon.com/images/P/0002005018.0...</td>\n",
              "      <td>http://images.amazon.com/images/P/0002005018.0...</td>\n",
              "      <td>http://images.amazon.com/images/P/0002005018.0...</td>\n",
              "    </tr>\n",
              "    <tr>\n",
              "      <th>...</th>\n",
              "      <td>...</td>\n",
              "      <td>...</td>\n",
              "      <td>...</td>\n",
              "      <td>...</td>\n",
              "      <td>...</td>\n",
              "      <td>...</td>\n",
              "      <td>...</td>\n",
              "      <td>...</td>\n",
              "      <td>...</td>\n",
              "      <td>...</td>\n",
              "      <td>...</td>\n",
              "      <td>...</td>\n",
              "    </tr>\n",
              "    <tr>\n",
              "      <th>1031131</th>\n",
              "      <td>278851</td>\n",
              "      <td>4986</td>\n",
              "      <td>33</td>\n",
              "      <td>156891</td>\n",
              "      <td>0</td>\n",
              "      <td>16706</td>\n",
              "      <td>16706</td>\n",
              "      <td>2000</td>\n",
              "      <td>16706</td>\n",
              "      <td>http://images.amazon.com/images/P/0743203763.0...</td>\n",
              "      <td>http://images.amazon.com/images/P/0743203763.0...</td>\n",
              "      <td>http://images.amazon.com/images/P/0743203763.0...</td>\n",
              "    </tr>\n",
              "    <tr>\n",
              "      <th>1031132</th>\n",
              "      <td>278851</td>\n",
              "      <td>4986</td>\n",
              "      <td>33</td>\n",
              "      <td>165573</td>\n",
              "      <td>5</td>\n",
              "      <td>11163</td>\n",
              "      <td>11163</td>\n",
              "      <td>2001</td>\n",
              "      <td>11163</td>\n",
              "      <td>http://images.amazon.com/images/P/0767907566.0...</td>\n",
              "      <td>http://images.amazon.com/images/P/0767907566.0...</td>\n",
              "      <td>http://images.amazon.com/images/P/0767907566.0...</td>\n",
              "    </tr>\n",
              "    <tr>\n",
              "      <th>1031133</th>\n",
              "      <td>278851</td>\n",
              "      <td>4986</td>\n",
              "      <td>33</td>\n",
              "      <td>201536</td>\n",
              "      <td>7</td>\n",
              "      <td>234649</td>\n",
              "      <td>234649</td>\n",
              "      <td>1985</td>\n",
              "      <td>234649</td>\n",
              "      <td>http://images.amazon.com/images/P/0884159221.0...</td>\n",
              "      <td>http://images.amazon.com/images/P/0884159221.0...</td>\n",
              "      <td>http://images.amazon.com/images/P/0884159221.0...</td>\n",
              "    </tr>\n",
              "    <tr>\n",
              "      <th>1031134</th>\n",
              "      <td>278851</td>\n",
              "      <td>4986</td>\n",
              "      <td>33</td>\n",
              "      <td>207840</td>\n",
              "      <td>7</td>\n",
              "      <td>175773</td>\n",
              "      <td>175773</td>\n",
              "      <td>1997</td>\n",
              "      <td>175773</td>\n",
              "      <td>http://images.amazon.com/images/P/0912333022.0...</td>\n",
              "      <td>http://images.amazon.com/images/P/0912333022.0...</td>\n",
              "      <td>http://images.amazon.com/images/P/0912333022.0...</td>\n",
              "    </tr>\n",
              "    <tr>\n",
              "      <th>1031135</th>\n",
              "      <td>278851</td>\n",
              "      <td>4986</td>\n",
              "      <td>33</td>\n",
              "      <td>228176</td>\n",
              "      <td>10</td>\n",
              "      <td>43302</td>\n",
              "      <td>43302</td>\n",
              "      <td>1999</td>\n",
              "      <td>43302</td>\n",
              "      <td>http://images.amazon.com/images/P/1569661057.0...</td>\n",
              "      <td>http://images.amazon.com/images/P/1569661057.0...</td>\n",
              "      <td>http://images.amazon.com/images/P/1569661057.0...</td>\n",
              "    </tr>\n",
              "  </tbody>\n",
              "</table>\n",
              "<p>1031136 rows × 12 columns</p>\n",
              "</div>\n",
              "    <div class=\"colab-df-buttons\">\n",
              "\n",
              "  <div class=\"colab-df-container\">\n",
              "    <button class=\"colab-df-convert\" onclick=\"convertToInteractive('df-431aa4d6-2368-460d-bc76-a55b37f7056e')\"\n",
              "            title=\"Convert this dataframe to an interactive table.\"\n",
              "            style=\"display:none;\">\n",
              "\n",
              "  <svg xmlns=\"http://www.w3.org/2000/svg\" height=\"24px\" viewBox=\"0 -960 960 960\">\n",
              "    <path d=\"M120-120v-720h720v720H120Zm60-500h600v-160H180v160Zm220 220h160v-160H400v160Zm0 220h160v-160H400v160ZM180-400h160v-160H180v160Zm440 0h160v-160H620v160ZM180-180h160v-160H180v160Zm440 0h160v-160H620v160Z\"/>\n",
              "  </svg>\n",
              "    </button>\n",
              "\n",
              "  <style>\n",
              "    .colab-df-container {\n",
              "      display:flex;\n",
              "      gap: 12px;\n",
              "    }\n",
              "\n",
              "    .colab-df-convert {\n",
              "      background-color: #E8F0FE;\n",
              "      border: none;\n",
              "      border-radius: 50%;\n",
              "      cursor: pointer;\n",
              "      display: none;\n",
              "      fill: #1967D2;\n",
              "      height: 32px;\n",
              "      padding: 0 0 0 0;\n",
              "      width: 32px;\n",
              "    }\n",
              "\n",
              "    .colab-df-convert:hover {\n",
              "      background-color: #E2EBFA;\n",
              "      box-shadow: 0px 1px 2px rgba(60, 64, 67, 0.3), 0px 1px 3px 1px rgba(60, 64, 67, 0.15);\n",
              "      fill: #174EA6;\n",
              "    }\n",
              "\n",
              "    .colab-df-buttons div {\n",
              "      margin-bottom: 4px;\n",
              "    }\n",
              "\n",
              "    [theme=dark] .colab-df-convert {\n",
              "      background-color: #3B4455;\n",
              "      fill: #D2E3FC;\n",
              "    }\n",
              "\n",
              "    [theme=dark] .colab-df-convert:hover {\n",
              "      background-color: #434B5C;\n",
              "      box-shadow: 0px 1px 3px 1px rgba(0, 0, 0, 0.15);\n",
              "      filter: drop-shadow(0px 1px 2px rgba(0, 0, 0, 0.3));\n",
              "      fill: #FFFFFF;\n",
              "    }\n",
              "  </style>\n",
              "\n",
              "    <script>\n",
              "      const buttonEl =\n",
              "        document.querySelector('#df-431aa4d6-2368-460d-bc76-a55b37f7056e button.colab-df-convert');\n",
              "      buttonEl.style.display =\n",
              "        google.colab.kernel.accessAllowed ? 'block' : 'none';\n",
              "\n",
              "      async function convertToInteractive(key) {\n",
              "        const element = document.querySelector('#df-431aa4d6-2368-460d-bc76-a55b37f7056e');\n",
              "        const dataTable =\n",
              "          await google.colab.kernel.invokeFunction('convertToInteractive',\n",
              "                                                    [key], {});\n",
              "        if (!dataTable) return;\n",
              "\n",
              "        const docLinkHtml = 'Like what you see? Visit the ' +\n",
              "          '<a target=\"_blank\" href=https://colab.research.google.com/notebooks/data_table.ipynb>data table notebook</a>'\n",
              "          + ' to learn more about interactive tables.';\n",
              "        element.innerHTML = '';\n",
              "        dataTable['output_type'] = 'display_data';\n",
              "        await google.colab.output.renderOutput(dataTable, element);\n",
              "        const docLink = document.createElement('div');\n",
              "        docLink.innerHTML = docLinkHtml;\n",
              "        element.appendChild(docLink);\n",
              "      }\n",
              "    </script>\n",
              "  </div>\n",
              "\n",
              "\n",
              "<div id=\"df-c8fcd801-4bed-46aa-ba4f-2d39f4e19462\">\n",
              "  <button class=\"colab-df-quickchart\" onclick=\"quickchart('df-c8fcd801-4bed-46aa-ba4f-2d39f4e19462')\"\n",
              "            title=\"Suggest charts.\"\n",
              "            style=\"display:none;\">\n",
              "\n",
              "<svg xmlns=\"http://www.w3.org/2000/svg\" height=\"24px\"viewBox=\"0 0 24 24\"\n",
              "     width=\"24px\">\n",
              "    <g>\n",
              "        <path d=\"M19 3H5c-1.1 0-2 .9-2 2v14c0 1.1.9 2 2 2h14c1.1 0 2-.9 2-2V5c0-1.1-.9-2-2-2zM9 17H7v-7h2v7zm4 0h-2V7h2v10zm4 0h-2v-4h2v4z\"/>\n",
              "    </g>\n",
              "</svg>\n",
              "  </button>\n",
              "\n",
              "<style>\n",
              "  .colab-df-quickchart {\n",
              "      --bg-color: #E8F0FE;\n",
              "      --fill-color: #1967D2;\n",
              "      --hover-bg-color: #E2EBFA;\n",
              "      --hover-fill-color: #174EA6;\n",
              "      --disabled-fill-color: #AAA;\n",
              "      --disabled-bg-color: #DDD;\n",
              "  }\n",
              "\n",
              "  [theme=dark] .colab-df-quickchart {\n",
              "      --bg-color: #3B4455;\n",
              "      --fill-color: #D2E3FC;\n",
              "      --hover-bg-color: #434B5C;\n",
              "      --hover-fill-color: #FFFFFF;\n",
              "      --disabled-bg-color: #3B4455;\n",
              "      --disabled-fill-color: #666;\n",
              "  }\n",
              "\n",
              "  .colab-df-quickchart {\n",
              "    background-color: var(--bg-color);\n",
              "    border: none;\n",
              "    border-radius: 50%;\n",
              "    cursor: pointer;\n",
              "    display: none;\n",
              "    fill: var(--fill-color);\n",
              "    height: 32px;\n",
              "    padding: 0;\n",
              "    width: 32px;\n",
              "  }\n",
              "\n",
              "  .colab-df-quickchart:hover {\n",
              "    background-color: var(--hover-bg-color);\n",
              "    box-shadow: 0 1px 2px rgba(60, 64, 67, 0.3), 0 1px 3px 1px rgba(60, 64, 67, 0.15);\n",
              "    fill: var(--button-hover-fill-color);\n",
              "  }\n",
              "\n",
              "  .colab-df-quickchart-complete:disabled,\n",
              "  .colab-df-quickchart-complete:disabled:hover {\n",
              "    background-color: var(--disabled-bg-color);\n",
              "    fill: var(--disabled-fill-color);\n",
              "    box-shadow: none;\n",
              "  }\n",
              "\n",
              "  .colab-df-spinner {\n",
              "    border: 2px solid var(--fill-color);\n",
              "    border-color: transparent;\n",
              "    border-bottom-color: var(--fill-color);\n",
              "    animation:\n",
              "      spin 1s steps(1) infinite;\n",
              "  }\n",
              "\n",
              "  @keyframes spin {\n",
              "    0% {\n",
              "      border-color: transparent;\n",
              "      border-bottom-color: var(--fill-color);\n",
              "      border-left-color: var(--fill-color);\n",
              "    }\n",
              "    20% {\n",
              "      border-color: transparent;\n",
              "      border-left-color: var(--fill-color);\n",
              "      border-top-color: var(--fill-color);\n",
              "    }\n",
              "    30% {\n",
              "      border-color: transparent;\n",
              "      border-left-color: var(--fill-color);\n",
              "      border-top-color: var(--fill-color);\n",
              "      border-right-color: var(--fill-color);\n",
              "    }\n",
              "    40% {\n",
              "      border-color: transparent;\n",
              "      border-right-color: var(--fill-color);\n",
              "      border-top-color: var(--fill-color);\n",
              "    }\n",
              "    60% {\n",
              "      border-color: transparent;\n",
              "      border-right-color: var(--fill-color);\n",
              "    }\n",
              "    80% {\n",
              "      border-color: transparent;\n",
              "      border-right-color: var(--fill-color);\n",
              "      border-bottom-color: var(--fill-color);\n",
              "    }\n",
              "    90% {\n",
              "      border-color: transparent;\n",
              "      border-bottom-color: var(--fill-color);\n",
              "    }\n",
              "  }\n",
              "</style>\n",
              "\n",
              "  <script>\n",
              "    async function quickchart(key) {\n",
              "      const quickchartButtonEl =\n",
              "        document.querySelector('#' + key + ' button');\n",
              "      quickchartButtonEl.disabled = true;  // To prevent multiple clicks.\n",
              "      quickchartButtonEl.classList.add('colab-df-spinner');\n",
              "      try {\n",
              "        const charts = await google.colab.kernel.invokeFunction(\n",
              "            'suggestCharts', [key], {});\n",
              "      } catch (error) {\n",
              "        console.error('Error during call to suggestCharts:', error);\n",
              "      }\n",
              "      quickchartButtonEl.classList.remove('colab-df-spinner');\n",
              "      quickchartButtonEl.classList.add('colab-df-quickchart-complete');\n",
              "    }\n",
              "    (() => {\n",
              "      let quickchartButtonEl =\n",
              "        document.querySelector('#df-c8fcd801-4bed-46aa-ba4f-2d39f4e19462 button');\n",
              "      quickchartButtonEl.style.display =\n",
              "        google.colab.kernel.accessAllowed ? 'block' : 'none';\n",
              "    })();\n",
              "  </script>\n",
              "</div>\n",
              "\n",
              "  <div id=\"id_272395e9-1e5f-4051-bedc-1de8415b24b4\">\n",
              "    <style>\n",
              "      .colab-df-generate {\n",
              "        background-color: #E8F0FE;\n",
              "        border: none;\n",
              "        border-radius: 50%;\n",
              "        cursor: pointer;\n",
              "        display: none;\n",
              "        fill: #1967D2;\n",
              "        height: 32px;\n",
              "        padding: 0 0 0 0;\n",
              "        width: 32px;\n",
              "      }\n",
              "\n",
              "      .colab-df-generate:hover {\n",
              "        background-color: #E2EBFA;\n",
              "        box-shadow: 0px 1px 2px rgba(60, 64, 67, 0.3), 0px 1px 3px 1px rgba(60, 64, 67, 0.15);\n",
              "        fill: #174EA6;\n",
              "      }\n",
              "\n",
              "      [theme=dark] .colab-df-generate {\n",
              "        background-color: #3B4455;\n",
              "        fill: #D2E3FC;\n",
              "      }\n",
              "\n",
              "      [theme=dark] .colab-df-generate:hover {\n",
              "        background-color: #434B5C;\n",
              "        box-shadow: 0px 1px 3px 1px rgba(0, 0, 0, 0.15);\n",
              "        filter: drop-shadow(0px 1px 2px rgba(0, 0, 0, 0.3));\n",
              "        fill: #FFFFFF;\n",
              "      }\n",
              "    </style>\n",
              "    <button class=\"colab-df-generate\" onclick=\"generateWithVariable('combined')\"\n",
              "            title=\"Generate code using this dataframe.\"\n",
              "            style=\"display:none;\">\n",
              "\n",
              "  <svg xmlns=\"http://www.w3.org/2000/svg\" height=\"24px\"viewBox=\"0 0 24 24\"\n",
              "       width=\"24px\">\n",
              "    <path d=\"M7,19H8.4L18.45,9,17,7.55,7,17.6ZM5,21V16.75L18.45,3.32a2,2,0,0,1,2.83,0l1.4,1.43a1.91,1.91,0,0,1,.58,1.4,1.91,1.91,0,0,1-.58,1.4L9.25,21ZM18.45,9,17,7.55Zm-12,3A5.31,5.31,0,0,0,4.9,8.1,5.31,5.31,0,0,0,1,6.5,5.31,5.31,0,0,0,4.9,4.9,5.31,5.31,0,0,0,6.5,1,5.31,5.31,0,0,0,8.1,4.9,5.31,5.31,0,0,0,12,6.5,5.46,5.46,0,0,0,6.5,12Z\"/>\n",
              "  </svg>\n",
              "    </button>\n",
              "    <script>\n",
              "      (() => {\n",
              "      const buttonEl =\n",
              "        document.querySelector('#id_272395e9-1e5f-4051-bedc-1de8415b24b4 button.colab-df-generate');\n",
              "      buttonEl.style.display =\n",
              "        google.colab.kernel.accessAllowed ? 'block' : 'none';\n",
              "\n",
              "      buttonEl.onclick = () => {\n",
              "        google.colab.notebook.generateWithVariable('combined');\n",
              "      }\n",
              "      })();\n",
              "    </script>\n",
              "  </div>\n",
              "\n",
              "    </div>\n",
              "  </div>\n"
            ]
          },
          "metadata": {},
          "execution_count": 321
        }
      ]
    },
    {
      "cell_type": "code",
      "source": [
        "dataset"
      ],
      "metadata": {
        "colab": {
          "base_uri": "https://localhost:8080/"
        },
        "id": "itdhLS6LCNxN",
        "outputId": "59bed7dd-b643-49af-d5c9-13455308cb98"
      },
      "execution_count": 322,
      "outputs": [
        {
          "output_type": "execute_result",
          "data": {
            "text/plain": [
              "<__main__.BookDataset at 0x7e641a402ce0>"
            ]
          },
          "metadata": {},
          "execution_count": 322
        }
      ]
    },
    {
      "cell_type": "code",
      "source": [
        "data = pd.merge(ratings, users, on='User-ID', how='inner')"
      ],
      "metadata": {
        "id": "ghZyipclOzoR"
      },
      "execution_count": 325,
      "outputs": []
    },
    {
      "cell_type": "code",
      "source": [
        "data = pd.merge(data, books, on='ISBN', how='inner')"
      ],
      "metadata": {
        "id": "6rqvXkMBO5kg"
      },
      "execution_count": 326,
      "outputs": []
    },
    {
      "cell_type": "code",
      "source": [
        "year = pd.to_numeric(data['Year-Of-Publication'], errors='coerce').fillna(2099, downcast='infer')\n"
      ],
      "metadata": {
        "id": "G2iUEzx0PBvu"
      },
      "execution_count": 329,
      "outputs": []
    },
    {
      "cell_type": "code",
      "source": [
        "data.columns"
      ],
      "metadata": {
        "colab": {
          "base_uri": "https://localhost:8080/"
        },
        "id": "2TiJTI04O82r",
        "outputId": "95c7c831-363a-4dbc-a86f-fef7014d8408"
      },
      "execution_count": 327,
      "outputs": [
        {
          "output_type": "execute_result",
          "data": {
            "text/plain": [
              "Index(['User-ID', 'ISBN', 'Book-Rating', 'Location', 'Age', 'Book-Title',\n",
              "       'Book-Author', 'Year-Of-Publication', 'Publisher', 'Image-URL-S',\n",
              "       'Image-URL-M', 'Image-URL-L'],\n",
              "      dtype='object')"
            ]
          },
          "metadata": {},
          "execution_count": 327
        }
      ]
    },
    {
      "cell_type": "code",
      "source": [
        "class WideAndDeepModel(nn.Module):\n",
        "    def __init__(self, embedding_sizes, n_continuous):\n",
        "        super(WideAndDeepModel, self).__init__()\n",
        "        self.embeddings = nn.ModuleList([nn.Embedding(categories, size) for categories, size in embedding_sizes])\n",
        "        n_emb = sum(e.embedding_dim for e in self.embeddings)  # sum of all embeddings dimensions\n",
        "        self.n_emb, self.n_continuous = n_emb, n_continuous\n",
        "        self.lin1 = nn.Linear(self.n_emb + self.n_continuous, 200)\n",
        "        self.lin2 = nn.Linear(200, 70)\n",
        "        self.lin3 = nn.Linear(70, 11)  # 11 output classes for Book-Rating\n",
        "        self.bn1 = nn.BatchNorm1d(self.n_continuous)\n",
        "        self.bn2 = nn.BatchNorm1d(200)\n",
        "        self.bn3 = nn.BatchNorm1d(70)\n",
        "        self.emb_drop = nn.Dropout(0.6)\n",
        "        self.drops = nn.Dropout(0.3)\n",
        "\n",
        "    def forward(self, x_cat, x_continuous):\n",
        "        x = [e(x_cat[:, i]) for i, e in enumerate(self.embeddings)]\n",
        "        x = torch.cat(x, 1)\n",
        "        x = self.emb_drop(x)\n",
        "\n",
        "        x_continuous = self.bn1(x_continuous)\n",
        "        x = torch.cat([x, x_continuous], 1)\n",
        "\n",
        "        x = F.relu(self.lin1(x))\n",
        "        x = self.drops(x)\n",
        "        x = self.bn2(x)\n",
        "        x = F.relu(self.lin2(x))\n",
        "        x = self.drops(x)\n",
        "        x = self.bn3(x)\n",
        "        x = self.lin3(x)\n",
        "\n",
        "        return x\n",
        "\n",
        "# Training function\n",
        "def train_model(model, criterion, optimizer, cat_train, cont_train, y_train, cat_test, cont_test, y_test, n_epochs):\n",
        "    for epoch in range(n_epochs):\n",
        "        model.train()\n",
        "        optimizer.zero_grad()\n",
        "\n",
        "        y_pred = model(cat_train, cont_train)\n",
        "        loss = criterion(y_pred, y_train)\n",
        "        loss.backward()\n",
        "        optimizer.step()\n",
        "\n",
        "        model.eval()\n",
        "        with torch.no_grad():\n",
        "            y_val = model(cat_test, cont_test)\n",
        "            val_loss = criterion(y_val, y_test)\n",
        "\n",
        "        print(f\"Epoch {epoch+1}/{n_epochs} - Loss: {loss.item()}, Val Loss: {val_loss.item()}\")\n",
        "\n",
        "# Split the data\n",
        "train_data, test_data = train_test_split(dataset, test_size=0.2, random_state=2023)\n",
        "\n",
        "# Define model parameters\n",
        "embedding_sizes = [(len(label_encoders[col].classes_), min(50, (len(label_encoders[col].classes_)+1)//2)) for col in ['ISBN', 'Book-Title', 'Book-Author', 'Year-Of-Publication', 'Publisher', 'Location']]\n",
        "continuous_feature_age = 1\n",
        "\n",
        "model = WideAndDeepModel(embedding_sizes, continuous_feature_age)\n",
        "criterion = nn.CrossEntropyLoss()\n",
        "optimizer = torch.optim.Adam(model.parameters(), lr=0.01)\n",
        "\n",
        "# Convert data to tensors\n",
        "cat_train = torch.tensor(train_data[['ISBN', 'Book-Title', 'Book-Author', 'Year-Of-Publication', 'Publisher', 'Location']].values, dtype=torch.int64)\n",
        "cont_train = torch.tensor(train_data[['Age']].values, dtype=torch.float32)\n",
        "y_train = torch.tensor(train_data[['Book-Rating']].values, dtype=torch.int64).squeeze()\n",
        "\n",
        "cat_test = torch.tensor(test_data[['ISBN', 'Book-Title', 'Book-Author', 'Year-Of-Publication', 'Publisher', 'Location']].values, dtype=torch.int64)\n",
        "cont_test = torch.tensor(test_data[['Age']].values, dtype=torch.float32)\n",
        "y_test = torch.tensor(test_data[['Book-Rating']].values, dtype=torch.int64).squeeze()\n",
        "\n",
        "# Train the model\n",
        "n_epochs = 10\n",
        "train_model(model, criterion, optimizer, cat_train, cont_train, y_train, cat_test, cont_test, y_test, n_epochs)\n",
        "\n",
        "# Use the model for predictions\n",
        "with torch.no_grad():\n",
        "    final_preds = model(cat_test, cont_test)\n",
        "    final_preds = torch.argmax(final_preds, dim=1)\n",
        "    accuracy = (final_preds == y_test).float().mean()\n",
        "\n",
        "print(f\"Prediction Accuracy: {accuracy*100:.2f}%\")"
      ],
      "metadata": {
        "colab": {
          "base_uri": "https://localhost:8080/"
        },
        "id": "nZ8N7B63ER41",
        "outputId": "a3a09fcc-5e86-4f23-c9e1-a87d516d1905"
      },
      "execution_count": 323,
      "outputs": [
        {
          "output_type": "stream",
          "name": "stderr",
          "text": [
            "Skipping line 6452: expected 8 fields, saw 9\n",
            "Skipping line 43667: expected 8 fields, saw 10\n",
            "Skipping line 51751: expected 8 fields, saw 9\n",
            "\n",
            "Skipping line 92038: expected 8 fields, saw 9\n",
            "Skipping line 104319: expected 8 fields, saw 9\n",
            "Skipping line 121768: expected 8 fields, saw 9\n",
            "\n",
            "Skipping line 144058: expected 8 fields, saw 9\n",
            "Skipping line 150789: expected 8 fields, saw 9\n",
            "Skipping line 157128: expected 8 fields, saw 9\n",
            "Skipping line 180189: expected 8 fields, saw 9\n",
            "Skipping line 185738: expected 8 fields, saw 9\n",
            "\n",
            "Skipping line 209388: expected 8 fields, saw 9\n",
            "Skipping line 220626: expected 8 fields, saw 9\n",
            "Skipping line 227933: expected 8 fields, saw 11\n",
            "Skipping line 228957: expected 8 fields, saw 10\n",
            "Skipping line 245933: expected 8 fields, saw 9\n",
            "Skipping line 251296: expected 8 fields, saw 9\n",
            "Skipping line 259941: expected 8 fields, saw 9\n",
            "Skipping line 261529: expected 8 fields, saw 9\n",
            "\n"
          ]
        },
        {
          "output_type": "stream",
          "name": "stdout",
          "text": [
            "Epoch 1/10 - Loss: 2.4820892810821533, Val Loss: 2.2997348308563232\n",
            "Epoch 2/10 - Loss: 2.3714795112609863, Val Loss: 2.257392406463623\n",
            "Epoch 3/10 - Loss: 2.3169758319854736, Val Loss: 2.2171759605407715\n",
            "Epoch 4/10 - Loss: 2.2675535678863525, Val Loss: 2.1843550205230713\n",
            "Epoch 5/10 - Loss: 2.216362476348877, Val Loss: 2.1444199085235596\n",
            "Epoch 6/10 - Loss: 2.1584932804107666, Val Loss: 2.081434488296509\n",
            "Epoch 7/10 - Loss: 2.096243143081665, Val Loss: 2.0002758502960205\n",
            "Epoch 8/10 - Loss: 2.0276741981506348, Val Loss: 1.9149459600448608\n",
            "Epoch 9/10 - Loss: 1.9527101516723633, Val Loss: 1.8010380268096924\n",
            "Epoch 10/10 - Loss: 1.876216173171997, Val Loss: 1.7233561277389526\n",
            "Prediction Accuracy: 61.08%\n"
          ]
        }
      ]
    }
  ]
}